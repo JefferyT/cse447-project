{
 "metadata": {
  "language_info": {
   "codemirror_mode": {
    "name": "ipython",
    "version": 3
   },
   "file_extension": ".py",
   "mimetype": "text/x-python",
   "name": "python",
   "nbconvert_exporter": "python",
   "pygments_lexer": "ipython3",
   "version": "3.8.5-final"
  },
  "orig_nbformat": 2,
  "kernelspec": {
   "name": "python3",
   "display_name": "Python 3.8.5 64-bit",
   "metadata": {
    "interpreter": {
     "hash": "767d51c1340bd893661ea55ea3124f6de3c7a262a8b4abca0554b478b1e2ff90"
    }
   }
  }
 },
 "nbformat": 4,
 "nbformat_minor": 2,
 "cells": [
  {
   "cell_type": "code",
   "execution_count": 1,
   "metadata": {},
   "outputs": [],
   "source": [
    "from google.cloud import translate_v2 as translate\n",
    "import os\n",
    "from multiprocessing.dummy import Pool as ThreadPool\n",
    "import time\n",
    "from tqdm import tqdm\n",
    "translate_client = translate.Client.from_service_account_json(\"apikey.json\")\n",
    "\n"
   ]
  },
  {
   "cell_type": "code",
   "execution_count": 2,
   "metadata": {},
   "outputs": [],
   "source": [
    "def request(text, target):\n",
    "    result = translate_client.translate(text, target_language=target)\n",
    "    return result\n",
    "langs = ['zh', 'hi', 'es', 'fr', 'ar', 'bn']"
   ]
  },
  {
   "cell_type": "code",
   "execution_count": 3,
   "metadata": {},
   "outputs": [
    {
     "output_type": "stream",
     "name": "stderr",
     "text": [
      "100%|██████████| 8000/8000 [12:01<00:00, 11.10it/s]\n",
      "100%|██████████| 8000/8000 [00:00<00:00, 375308.23it/s]\n",
      "100%|██████████| 8000/8000 [11:38<00:00, 11.46it/s]\n",
      "100%|██████████| 8000/8000 [00:00<00:00, 392996.47it/s]\n",
      "100%|██████████| 8000/8000 [08:17<00:00, 16.07it/s]\n",
      "100%|██████████| 8000/8000 [00:00<00:00, 262976.07it/s]\n",
      "100%|██████████| 8000/8000 [09:29<00:00, 14.05it/s]\n",
      "100%|██████████| 8000/8000 [00:00<00:00, 454445.42it/s]\n",
      "100%|██████████| 8000/8000 [10:59<00:00, 12.13it/s]\n",
      "100%|██████████| 8000/8000 [00:00<00:00, 347822.45it/s]\n"
     ]
    }
   ],
   "source": [
    "trainFile = open(\"train.corpus\", \"r\", encoding='utf-16')\n",
    "trainLines = trainFile.read().split('\\n')\n",
    "trainFile.close()\n",
    "trainLines.pop()\n",
    "\n",
    "for lang in langs:\n",
    "    # load training data\n",
    "    trainFileName = lang + \"train.corpus\"\n",
    "    result = []\n",
    "    for line in tqdm(trainLines):\n",
    "        result.append(request(line, lang)['translatedText'])\n",
    "    langTrainFile = open(trainFileName, \"w\", encoding='utf-16')\n",
    "    for line in tqdm(result):\n",
    "        print(line, file=langTrainFile)\n",
    "    langTrainFile.close()"
   ]
  },
  {
   "cell_type": "code",
   "execution_count": 4,
   "metadata": {},
   "outputs": [
    {
     "output_type": "stream",
     "name": "stderr",
     "text": [
      "100%|██████████| 2000/2000 [03:01<00:00, 11.03it/s]\n",
      "100%|██████████| 2000/2000 [00:00<00:00, 327795.24it/s]\n",
      "100%|██████████| 2000/2000 [02:57<00:00, 11.28it/s]\n",
      "100%|██████████| 2000/2000 [00:00<00:00, 315195.31it/s]\n",
      "100%|██████████| 2000/2000 [02:07<00:00, 15.74it/s]\n",
      "100%|██████████| 2000/2000 [00:00<00:00, 265093.16it/s]\n",
      "100%|██████████| 2000/2000 [02:21<00:00, 14.11it/s]\n",
      "100%|██████████| 2000/2000 [00:00<00:00, 369737.66it/s]\n",
      "100%|██████████| 2000/2000 [02:49<00:00, 11.81it/s]\n",
      "100%|██████████| 2000/2000 [00:00<00:00, 371687.18it/s]\n"
     ]
    }
   ],
   "source": [
    "testFile = open(\"test.corpus\", \"r\", encoding='utf-16')\n",
    "testLines = testFile.read().split('\\n')\n",
    "testFile.close()\n",
    "testLines.pop()\n",
    "\n",
    "for lang in langs:\n",
    "    # load testing data\n",
    "    testFileName = lang + \"test.corpus\"\n",
    "    result = []\n",
    "    for line in tqdm(testLines):\n",
    "        result.append(request(line, lang)['translatedText'])\n",
    "    langTestFile = open(testFileName, \"w\", encoding='utf-16')\n",
    "    for line in tqdm(result):\n",
    "        print(line, file=langTestFile)\n",
    "    langTestFile.close()"
   ]
  },
  {
   "cell_type": "code",
   "execution_count": 5,
   "metadata": {},
   "outputs": [
    {
     "output_type": "stream",
     "name": "stderr",
     "text": [
      "100%|██████████| 1000/1000 [01:28<00:00, 11.33it/s]\n",
      "100%|██████████| 1000/1000 [00:00<00:00, 283073.77it/s]\n",
      "100%|██████████| 1000/1000 [01:26<00:00, 11.60it/s]\n",
      "100%|██████████| 1000/1000 [00:00<00:00, 297384.00it/s]\n",
      "100%|██████████| 1000/1000 [01:01<00:00, 16.32it/s]\n",
      "100%|██████████| 1000/1000 [00:00<00:00, 267630.42it/s]\n",
      "100%|██████████| 1000/1000 [01:10<00:00, 14.10it/s]\n",
      "100%|██████████| 1000/1000 [00:00<00:00, 350664.99it/s]\n",
      "100%|██████████| 1000/1000 [01:23<00:00, 12.03it/s]\n",
      "100%|██████████| 1000/1000 [00:00<00:00, 314509.90it/s]\n"
     ]
    }
   ],
   "source": [
    "validFile = open(\"valid.corpus\", \"r\", encoding='utf-16')\n",
    "validLines = validFile.read().split('\\n')\n",
    "validFile.close()\n",
    "validLines.pop()\n",
    "\n",
    "for lang in langs:\n",
    "    # load validation data\n",
    "    validFileName = lang + \"valid.corpus\"\n",
    "    result = []\n",
    "    for line in tqdm(validLines):\n",
    "        result.append(request(line, lang)['translatedText'])\n",
    "    langValidFile = open(validFileName, \"w\", encoding='utf-16')\n",
    "    for line in tqdm(result):\n",
    "        print(line, file=langValidFile)\n",
    "    langValidFile.close()"
   ]
  },
  {
   "cell_type": "code",
   "execution_count": null,
   "metadata": {},
   "outputs": [],
   "source": [
    "langs = ['zh', 'zh-TW', 'hi', 'es', 'fr', 'ar', 'bn']\n",
    "\n",
    "def translate_text(text, target='fr'):\n",
    "    result = translate_client.translate(text, target_language=target)\n",
    "    print('Text:', result[:])\n",
    "    # print('Translation:', result['translatedText'])\n",
    "    # print('Detected source lang: ', result['detectedSourceLanguage'])\n",
    "\n",
    "example = ['Hello there', 'how are you']\n",
    "translate_text(example)"
   ]
  },
  {
   "cell_type": "code",
   "execution_count": 5,
   "metadata": {},
   "outputs": [
    {
     "output_type": "stream",
     "name": "stderr",
     "text": [
      "100%|██████████| 10/10 [00:00<00:00, 164482.51it/s]\n"
     ]
    }
   ],
   "source": [
    "for i in tqdm(range(10)):\n",
    "    i = 1+1"
   ]
  },
  {
   "cell_type": "code",
   "execution_count": null,
   "metadata": {},
   "outputs": [],
   "source": []
  }
 ]
}