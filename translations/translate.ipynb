{
 "cells": [
  {
   "cell_type": "code",
   "execution_count": 5,
   "metadata": {},
   "outputs": [],
   "source": [
    "from google.cloud import translate_v2 as translate\n",
    "import os\n",
    "from multiprocessing.dummy import Pool as ThreadPool\n",
    "import time\n",
    "from tqdm import tqdm\n",
    "translate_client = translate.Client.from_service_account_json(\"apikey.json\")"
   ]
  },
  {
   "cell_type": "code",
   "execution_count": 6,
   "metadata": {},
   "outputs": [],
   "source": [
    "def request(text, target):\n",
    "    result = translate_client.translate(text, target_language=target)\n",
    "    return result\n",
    "# langs = ['zh', 'hi', 'es', 'fr', 'ar', 'bn']\n",
    "langs = ['ru','pt','id','ur','de','ja','sw','mr']"
   ]
  },
  {
   "cell_type": "code",
   "execution_count": 7,
   "metadata": {},
   "outputs": [
    {
     "name": "stderr",
     "output_type": "stream",
     "text": [
      "100%|██████████| 8000/8000 [13:51<00:00,  9.62it/s]\n",
      "100%|██████████| 8000/8000 [00:00<00:00, 889518.90it/s]\n",
      "100%|██████████| 8000/8000 [14:31<00:00,  9.18it/s]\n",
      "100%|██████████| 8000/8000 [00:00<00:00, 889165.33it/s]\n",
      "100%|██████████| 8000/8000 [15:47<00:00,  8.44it/s]\n",
      "100%|██████████| 8000/8000 [00:00<00:00, 506887.50it/s]\n",
      "100%|██████████| 8000/8000 [14:44<00:00,  9.04it/s]\n",
      "100%|██████████| 8000/8000 [00:00<00:00, 931213.94it/s]\n",
      "100%|██████████| 8000/8000 [10:57<00:00, 12.17it/s]\n",
      "100%|██████████| 8000/8000 [00:00<00:00, 888906.22it/s]\n",
      "100%|██████████| 8000/8000 [13:43<00:00,  9.71it/s]\n",
      "100%|██████████| 8000/8000 [00:00<00:00, 889259.59it/s]\n",
      "100%|██████████| 8000/8000 [11:45<00:00, 11.33it/s]\n",
      "100%|██████████| 8000/8000 [00:00<00:00, 799981.69it/s]\n",
      "100%|██████████| 8000/8000 [09:49<00:00, 13.57it/s]\n",
      "100%|██████████| 8000/8000 [00:00<00:00, 615316.36it/s]\n"
     ]
    }
   ],
   "source": [
    "trainFile = open(\"train.corpus\", \"r\", encoding='utf-16')\n",
    "trainLines = trainFile.read().split('\\n')\n",
    "trainFile.close()\n",
    "trainLines.pop()\n",
    "\n",
    "for lang in langs:\n",
    "    # load training data\n",
    "    trainFileName = lang + \"train.corpus\"\n",
    "    result = []\n",
    "    for line in tqdm(trainLines):\n",
    "        result.append(request(line, lang)['translatedText'])\n",
    "    langTrainFile = open(trainFileName, \"w\", encoding='utf-16')\n",
    "    for line in tqdm(result):\n",
    "        print(line, file=langTrainFile)\n",
    "    langTrainFile.close()"
   ]
  },
  {
   "cell_type": "code",
   "execution_count": 8,
   "metadata": {},
   "outputs": [
    {
     "name": "stderr",
     "output_type": "stream",
     "text": [
      "100%|██████████| 2000/2000 [02:26<00:00, 13.65it/s]\n",
      "100%|██████████| 2000/2000 [00:00<00:00, 667192.24it/s]\n",
      "100%|██████████| 2000/2000 [02:29<00:00, 13.35it/s]\n",
      "100%|██████████| 2000/2000 [00:00<00:00, 666079.72it/s]\n",
      "100%|██████████| 2000/2000 [02:35<00:00, 12.83it/s]\n",
      "100%|██████████| 2000/2000 [00:00<00:00, 666291.34it/s]\n",
      "100%|██████████| 2000/2000 [02:27<00:00, 13.58it/s]\n",
      "100%|██████████| 2000/2000 [00:00<00:00, 567104.38it/s]\n",
      "100%|██████████| 2000/2000 [02:43<00:00, 12.20it/s]\n",
      "100%|██████████| 2000/2000 [00:00<00:00, 333145.67it/s]\n",
      "100%|██████████| 2000/2000 [03:28<00:00,  9.59it/s]\n",
      "100%|██████████| 2000/2000 [00:00<00:00, 1000310.99it/s]\n",
      "100%|██████████| 2000/2000 [02:57<00:00, 11.30it/s]\n",
      "100%|██████████| 2000/2000 [00:00<00:00, 521161.03it/s]\n",
      "100%|██████████| 2000/2000 [02:25<00:00, 13.72it/s]\n",
      "100%|██████████| 2000/2000 [00:00<00:00, 667776.47it/s]\n"
     ]
    }
   ],
   "source": [
    "testFile = open(\"test.corpus\", \"r\", encoding='utf-16')\n",
    "testLines = testFile.read().split('\\n')\n",
    "testFile.close()\n",
    "testLines.pop()\n",
    "\n",
    "for lang in langs:\n",
    "    # load testing data\n",
    "    testFileName = lang + \"test.corpus\"\n",
    "    result = []\n",
    "    for line in tqdm(testLines):\n",
    "        result.append(request(line, lang)['translatedText'])\n",
    "    langTestFile = open(testFileName, \"w\", encoding='utf-16')\n",
    "    for line in tqdm(result):\n",
    "        print(line, file=langTestFile)\n",
    "    langTestFile.close()"
   ]
  },
  {
   "cell_type": "code",
   "execution_count": 9,
   "metadata": {},
   "outputs": [
    {
     "name": "stderr",
     "output_type": "stream",
     "text": [
      "100%|██████████| 1000/1000 [01:10<00:00, 14.19it/s]\n",
      "100%|██████████| 1000/1000 [00:00<00:00, 333463.51it/s]\n",
      "100%|██████████| 1000/1000 [01:16<00:00, 13.07it/s]\n",
      "100%|██████████| 1000/1000 [00:00<00:00, 499857.47it/s]\n",
      "100%|██████████| 1000/1000 [01:18<00:00, 12.70it/s]\n",
      "100%|██████████| 1000/1000 [00:00<00:00, 488334.38it/s]\n",
      "100%|██████████| 1000/1000 [01:12<00:00, 13.73it/s]\n",
      "100%|██████████| 1000/1000 [00:00<00:00, 499738.35it/s]\n",
      "100%|██████████| 1000/1000 [01:22<00:00, 12.19it/s]\n",
      "100%|██████████| 1000/1000 [00:00<00:00, 499738.35it/s]\n",
      "100%|██████████| 1000/1000 [01:39<00:00, 10.06it/s]\n",
      "100%|██████████| 1000/1000 [00:00<00:00, 501471.07it/s]\n",
      "100%|██████████| 1000/1000 [01:27<00:00, 11.46it/s]\n",
      "100%|██████████| 1000/1000 [00:00<00:00, 250047.93it/s]\n",
      "100%|██████████| 1000/1000 [01:12<00:00, 13.74it/s]\n",
      "100%|██████████| 1000/1000 [00:00<00:00, 335249.30it/s]\n"
     ]
    }
   ],
   "source": [
    "validFile = open(\"valid.corpus\", \"r\", encoding='utf-16')\n",
    "validLines = validFile.read().split('\\n')\n",
    "validFile.close()\n",
    "validLines.pop()\n",
    "\n",
    "for lang in langs:\n",
    "    # load validation data\n",
    "    validFileName = lang + \"valid.corpus\"\n",
    "    result = []\n",
    "    for line in tqdm(validLines):\n",
    "        result.append(request(line, lang)['translatedText'])\n",
    "    langValidFile = open(validFileName, \"w\", encoding='utf-16')\n",
    "    for line in tqdm(result):\n",
    "        print(line, file=langValidFile)\n",
    "    langValidFile.close()"
   ]
  },
  {
   "cell_type": "code",
   "execution_count": 1,
   "metadata": {},
   "outputs": [
    {
     "ename": "NameError",
     "evalue": "name 'translate_client' is not defined",
     "output_type": "error",
     "traceback": [
      "\u001b[1;31m---------------------------------------------------------------------------\u001b[0m",
      "\u001b[1;31mNameError\u001b[0m                                 Traceback (most recent call last)",
      "\u001b[1;32m<ipython-input-1-bf5bf23af688>\u001b[0m in \u001b[0;36m<module>\u001b[1;34m\u001b[0m\n\u001b[0;32m      8\u001b[0m \u001b[1;33m\u001b[0m\u001b[0m\n\u001b[0;32m      9\u001b[0m \u001b[0mexample\u001b[0m \u001b[1;33m=\u001b[0m \u001b[1;33m[\u001b[0m\u001b[1;34m'Hello there'\u001b[0m\u001b[1;33m,\u001b[0m \u001b[1;34m'how are you'\u001b[0m\u001b[1;33m]\u001b[0m\u001b[1;33m\u001b[0m\u001b[1;33m\u001b[0m\u001b[0m\n\u001b[1;32m---> 10\u001b[1;33m \u001b[0mtranslate_text\u001b[0m\u001b[1;33m(\u001b[0m\u001b[0mexample\u001b[0m\u001b[1;33m)\u001b[0m\u001b[1;33m\u001b[0m\u001b[1;33m\u001b[0m\u001b[0m\n\u001b[0m",
      "\u001b[1;32m<ipython-input-1-bf5bf23af688>\u001b[0m in \u001b[0;36mtranslate_text\u001b[1;34m(text, target)\u001b[0m\n\u001b[0;32m      2\u001b[0m \u001b[1;33m\u001b[0m\u001b[0m\n\u001b[0;32m      3\u001b[0m \u001b[1;32mdef\u001b[0m \u001b[0mtranslate_text\u001b[0m\u001b[1;33m(\u001b[0m\u001b[0mtext\u001b[0m\u001b[1;33m,\u001b[0m \u001b[0mtarget\u001b[0m\u001b[1;33m=\u001b[0m\u001b[1;34m'fr'\u001b[0m\u001b[1;33m)\u001b[0m\u001b[1;33m:\u001b[0m\u001b[1;33m\u001b[0m\u001b[1;33m\u001b[0m\u001b[0m\n\u001b[1;32m----> 4\u001b[1;33m     \u001b[0mresult\u001b[0m \u001b[1;33m=\u001b[0m \u001b[0mtranslate_client\u001b[0m\u001b[1;33m.\u001b[0m\u001b[0mtranslate\u001b[0m\u001b[1;33m(\u001b[0m\u001b[0mtext\u001b[0m\u001b[1;33m,\u001b[0m \u001b[0mtarget_language\u001b[0m\u001b[1;33m=\u001b[0m\u001b[0mtarget\u001b[0m\u001b[1;33m)\u001b[0m\u001b[1;33m\u001b[0m\u001b[1;33m\u001b[0m\u001b[0m\n\u001b[0m\u001b[0;32m      5\u001b[0m     \u001b[0mprint\u001b[0m\u001b[1;33m(\u001b[0m\u001b[1;34m'Text:'\u001b[0m\u001b[1;33m,\u001b[0m \u001b[0mresult\u001b[0m\u001b[1;33m[\u001b[0m\u001b[1;33m:\u001b[0m\u001b[1;33m]\u001b[0m\u001b[1;33m)\u001b[0m\u001b[1;33m\u001b[0m\u001b[1;33m\u001b[0m\u001b[0m\n\u001b[0;32m      6\u001b[0m     \u001b[1;31m# print('Translation:', result['translatedText'])\u001b[0m\u001b[1;33m\u001b[0m\u001b[1;33m\u001b[0m\u001b[1;33m\u001b[0m\u001b[0m\n",
      "\u001b[1;31mNameError\u001b[0m: name 'translate_client' is not defined"
     ]
    }
   ],
   "source": [
    "langs = ['zh', 'zh-TW', 'hi', 'es', 'fr', 'ar', 'bn']\n",
    "\n",
    "def translate_text(text, target='fr'):\n",
    "    result = translate_client.translate(text, target_language=target)\n",
    "    print('Text:', result[:])\n",
    "    # print('Translation:', result['translatedText'])\n",
    "    # print('Detected source lang: ', result['detectedSourceLanguage'])\n",
    "\n",
    "example = ['Hello there', 'how are you']\n",
    "translate_text(example)"
   ]
  },
  {
   "cell_type": "code",
   "execution_count": null,
   "metadata": {},
   "outputs": [],
   "source": []
  }
 ],
 "metadata": {
  "kernelspec": {
   "display_name": "Python 3",
   "language": "python",
   "name": "python3"
  },
  "language_info": {
   "codemirror_mode": {
    "name": "ipython",
    "version": 3
   },
   "file_extension": ".py",
   "mimetype": "text/x-python",
   "name": "python",
   "nbconvert_exporter": "python",
   "pygments_lexer": "ipython3",
   "version": "3.8.5"
  }
 },
 "nbformat": 4,
 "nbformat_minor": 2
}
