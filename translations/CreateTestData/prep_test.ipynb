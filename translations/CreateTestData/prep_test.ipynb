{
 "cells": [
  {
   "cell_type": "code",
   "execution_count": 40,
   "metadata": {},
   "outputs": [],
   "source": [
    "import os\n",
    "import numpy as np\n",
    "n = 150"
   ]
  },
  {
   "cell_type": "code",
   "execution_count": 41,
   "metadata": {},
   "outputs": [],
   "source": [
    "prefix_file = open(\"prefix_test.txt\", \"w\", encoding='utf-16')\n",
    "answers_file = open(\"answers_test.txt\", \"w\", encoding='utf-16')\n",
    "path = r'test'\n",
    "files = os.listdir(path)\n",
    "for f in files:\n",
    "    f_ = open(os.path.join(path, f), \"r\", encoding='utf-16')\n",
    "    curLines = f_.read().split('\\n')\n",
    "    curLines.pop()\n",
    "    prefix = list()\n",
    "    answers = list()\n",
    "    for line in curLines:\n",
    "        for i in range(1, len(line)):\n",
    "            prefix.append(line[:i] + \"\\n\")\n",
    "            answers.append(line[i] + \"\\n\" )\n",
    "    indicies = np.random.choice(range(len(prefix)), n, replace = False)\n",
    "    prefix = np.array(prefix)\n",
    "    answers = np.array(answers)\n",
    "    prefix = prefix[indicies]\n",
    "    answers = answers[indicies]\n",
    "    for i in range(len(prefix)):\n",
    "        prefix_file.write(prefix[i])\n",
    "        answers_file.write(answers[i])\n",
    "    f_.close()\n",
    "prefix_file.close()\n",
    "answers_file.close()"
   ]
  },
  {
   "cell_type": "code",
   "execution_count": null,
   "metadata": {},
   "outputs": [],
   "source": []
  }
 ],
 "metadata": {
  "kernelspec": {
   "display_name": "Python 3",
   "language": "python",
   "name": "python3"
  },
  "language_info": {
   "codemirror_mode": {
    "name": "ipython",
    "version": 3
   },
   "file_extension": ".py",
   "mimetype": "text/x-python",
   "name": "python",
   "nbconvert_exporter": "python",
   "pygments_lexer": "ipython3",
   "version": "3.8.5"
  }
 },
 "nbformat": 4,
 "nbformat_minor": 2
}
