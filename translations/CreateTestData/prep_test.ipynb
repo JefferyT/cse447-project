{
 "metadata": {
  "language_info": {
   "codemirror_mode": {
    "name": "ipython",
    "version": 3
   },
   "file_extension": ".py",
   "mimetype": "text/x-python",
   "name": "python",
   "nbconvert_exporter": "python",
   "pygments_lexer": "ipython3",
   "version": "3.8.5-final"
  },
  "orig_nbformat": 2,
  "kernelspec": {
   "name": "python3",
   "display_name": "Python 3.8.5 64-bit",
   "metadata": {
    "interpreter": {
     "hash": "767d51c1340bd893661ea55ea3124f6de3c7a262a8b4abca0554b478b1e2ff90"
    }
   }
  }
 },
 "nbformat": 4,
 "nbformat_minor": 2,
 "cells": [
  {
   "cell_type": "code",
   "execution_count": 3,
   "metadata": {},
   "outputs": [],
   "source": [
    "import os\n"
   ]
  },
  {
   "cell_type": "code",
   "execution_count": 5,
   "metadata": {},
   "outputs": [],
   "source": [
    "path = r'test'\n",
    "files = os.listdir(path)\n",
    "lines = []\n",
    "for f in files:\n",
    "    f_ = open(os.path.join(path, f), \"r\", encoding='utf-16')\n",
    "    curLines = f_.read().split('\\n')\n",
    "    curLines.pop()\n",
    "    lines += curLines\n",
    "    f_.close()"
   ]
  },
  {
   "cell_type": "code",
   "execution_count": 6,
   "metadata": {},
   "outputs": [
    {
     "output_type": "stream",
     "name": "stdout",
     "text": [
      "['اوه هذا منطقي جدا هل تعرف لماذا أصبح كين ممثل؟', 'حسنًا ، لست متأكدًا من ذلك. ذهب إلى الكلية من أجل ذلك؟', 'كلا ، لقد حضر للتو درس الدراما في المدرسة الثانوية لأن هذا هو المكان الذي ذهبت إليه الفتيات الجميلات', 'هاهاها الرجل يعرف حقًا ما كان بعده حتى في وقت مبكر', 'بالضبط. هل تشاهد مباريات اتحاد كرة القدم الأميركي على الإطلاق؟', 'هل أنت من محبي الأفلام الدرامية؟', 'أنا أكون! أنا أحب جميع الأنواع', 'مثير للاهتمام ، هل سبق لك أن رأيت المنزل؟', 'لقد رأيته ، مسلسل تلفزيوني درامي رائع', 'يبدو أن هيو لوري كان يكسب 700 ألف دولار في حلقة !!']\n"
     ]
    }
   ],
   "source": []
  },
  {
   "cell_type": "code",
   "execution_count": null,
   "metadata": {},
   "outputs": [],
   "source": []
  }
 ]
}